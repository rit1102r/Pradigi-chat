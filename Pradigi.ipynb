{
  "nbformat": 4,
  "nbformat_minor": 0,
  "metadata": {
    "colab": {
      "provenance": []
    },
    "kernelspec": {
      "name": "python3",
      "display_name": "Python 3"
    },
    "language_info": {
      "name": "python"
    }
  },
  "cells": [
    {
      "cell_type": "code",
      "execution_count": 1,
      "metadata": {
        "id": "9OsgH1BIaWjD"
      },
      "outputs": [],
      "source": [
        "import requests\n",
        "from bs4 import BeautifulSoup\n",
        "import pandas as pd\n",
        "import spacy\n",
        "from transformers import pipeline\n",
        "import re\n",
        "\n",
        "base_url = 'https://www.pratham.org/'\n",
        "\n",
        "sections = {\n",
        "    'About Us': '/about',\n",
        "    'Board': 'about/board',\n",
        "    'Leadership': 'about/leadership',\n",
        "    'Partners': 'about/partners',\n",
        "    'Teaching at the right level': 'about/teaching-at-the-right-level/',\n",
        "    'Recognition': 'about/recognition',\n",
        "    'News': 'about/news',\n",
        "    'Humara gaon': 'about/hamara-gaon',\n",
        "    'Early Childhood Education': 'programs/education/early-childhood-education',\n",
        "    'Elementary': 'programs/education/elementary',\n",
        "    'Beyond Elementary': 'programs/education/beyond-elementary',\n",
        "    'Digital-initiatives': 'programs/education/digital-initiatives',\n",
        "    'Education': 'programs/education',\n",
        "    'Vocational Training': 'programs/education/vocational-training',\n",
        "    'Annual Status of Education Report': 'programs/education/aser',\n",
        "    'Pratham Council For Vulnerable Children': 'programs/pratham-council-for-vulnerablechildren/',\n",
        "    'Covid Response': 'covid-19-response/',\n",
        "    'Learning Readiness & Catch Up': 'covid-19-response/prathams-community-based-campaign-for-learning-readiness-catch-up/',\n",
        "    'Job Opportunities': 'get-involved/job-opportunities/',\n",
        "    'Internships': 'get-involved/internships',\n",
        "}\n",
        "\n",
        "\n",
        "def scrape_section(section_name, section_url):\n",
        "    url = base_url + section_url\n",
        "    response = requests.get(url)\n",
        "    soup = BeautifulSoup(response.content, 'html.parser')\n",
        "\n",
        "    content = ' '.join([p.get_text(strip=True) for p in soup.find_all(['p', 'h1', 'h2', 'h3', 'h4', 'h5', 'h6'])])\n",
        "    return content\n",
        "\n",
        "\n",
        "data = {section: scrape_section(section, url) for section, url in sections.items()}\n",
        "\n",
        "contact_info = {\n",
        "    'Delhi Office': {\n",
        "        'Address': 'B- 4/59, Safdarjung Enclave, 1st Floor, New Delhi - 110 029',\n",
        "        'Email': 'info@pratham.org',\n",
        "        'Contact Number': '01141651638'\n",
        "    },\n",
        "    'Mumbai Office': {\n",
        "        'Address': 'Y.B. Chavan Center, 4th Floor, Gen. J. Bhosale Marg, Nariman Point, Mumbai, Maharashtra - 400021',\n",
        "        'Email': 'info@pratham.org',\n",
        "        'Contact Number': '022 22819561, 022 22819562'\n",
        "    }\n",
        "}\n",
        "\n",
        "data.update(contact_info)\n",
        "\n",
        "\n",
        "df = pd.DataFrame(list(data.items()), columns=['Section', 'Content'])\n",
        "df.to_csv('pratham_data.csv', index=False)\n"
      ]
    },
    {
      "cell_type": "code",
      "source": [
        "import pandas as pd\n",
        "import spacy\n",
        "from transformers import pipeline\n",
        "import re\n",
        "import logging\n",
        "\n",
        "logging.basicConfig(level=logging.ERROR)\n",
        "\n",
        "# Load the CSV data\n",
        "df = pd.read_csv('pratham_data.csv')\n",
        "\n",
        "# Clean the text data\n",
        "def clean_text(text):\n",
        "    text = re.sub(r'\\s+', ' ', text)  # Remove extra whitespace\n",
        "    text = text.strip()  # Remove leading and trailing whitespace\n",
        "    return text\n",
        "\n",
        "df['Content'] = df['Content'].apply(clean_text)\n",
        "\n",
        "# Initialize the SpaCy model for keyword extraction\n",
        "nlp = spacy.load('en_core_web_sm')\n",
        "\n",
        "# Function to extract keywords from text\n",
        "def extract_keywords(text, num_keywords=10):\n",
        "    doc = nlp(text)\n",
        "    keywords = [chunk.text.lower() for chunk in doc.noun_chunks]\n",
        "    return keywords[:num_keywords]\n",
        "\n",
        "df['Keywords'] = df['Content'].apply(extract_keywords)\n",
        "\n",
        "# Initialize the Hugging Face pipeline for text generation\n",
        "generator = pipeline('text-generation', model='distilgpt2')\n",
        "\n",
        "# Function to generate a response based on the user's query\n",
        "def generate_response(query):\n",
        "    # Find relevant sections based on keyword matching\n",
        "    relevant_sections = df[df['Keywords'].apply(lambda x: any(word in query.lower() for word in x))]\n",
        "\n",
        "    if not relevant_sections.empty:\n",
        "        # Take the first relevant section as context\n",
        "        context = relevant_sections.iloc[0]['Content']\n",
        "        max_context_length = 1000\n",
        "        if len(context) > max_context_length:\n",
        "            context = context[:max_context_length]\n",
        "    else:\n",
        "        context = \"Sorry, I don't have information on that topic.\"\n",
        "\n",
        "    # Generate response using the transformer model\n",
        "    prompt = f\"Context: {context}\\n\\nQuestion: {query}\\nAnswer:\"\n",
        "    response = generator(prompt, max_new_tokens=150, num_return_sequences=1, temperature=0.2, top_k=50)[0]['generated_text']\n",
        "\n",
        "    # Extract and clean the response\n",
        "    response_parts = response.split('Answer:')\n",
        "    if len(response_parts) > 1:\n",
        "        response_text = response_parts[1].strip()\n",
        "    else:\n",
        "        response_text = response.strip()\n",
        "\n",
        "    response_text = re.sub(r'\\bQuestion:.*$', '', response_text, flags=re.IGNORECASE).strip()\n",
        "\n",
        "    if \"?\" in response_text or len(response_text) < 10:\n",
        "        response_text = \"I'm sorry, I don't have a clear answer to that question.\"\n",
        "\n",
        "    return response_text\n",
        "\n",
        "# Function to handle the chatbot interaction\n",
        "def chat_bot():\n",
        "    print(\"Welcome to the Pratham Chatbot! Type 'exit' to end the chat.\")\n",
        "    while True:\n",
        "        user_input = input(\"You: \")\n",
        "        if user_input.lower() == 'exit':\n",
        "            print(\"Goodbye!\")\n",
        "            break\n",
        "        response = generate_response(user_input)\n",
        "        print(f\"Bot: {response}\")\n",
        "\n",
        "if __name__ == \"__main__\":\n",
        "    chat_bot()\n"
      ],
      "metadata": {
        "colab": {
          "base_uri": "https://localhost:8080/"
        },
        "id": "WQt8jrmZiGIZ",
        "outputId": "dcbd126b-8bcb-4eef-d112-a2a769337ac1"
      },
      "execution_count": null,
      "outputs": [
        {
          "name": "stdout",
          "output_type": "stream",
          "text": [
            "Welcome to the Pratham Chatbot! Type 'exit' to end the chat.\n",
            "You: What is the mission of Pratham?\n"
          ]
        },
        {
          "output_type": "stream",
          "name": "stderr",
          "text": [
            "Setting `pad_token_id` to `eos_token_id`:50256 for open-end generation.\n"
          ]
        },
        {
          "name": "stdout",
          "output_type": "stream",
          "text": [
            "Bot: We are a non-governmental organization that aims to improve the quality of education in India and to improve the quality of education in India. We are a non-governmental organization that aims to improve the quality of education in India and to improve the quality of education in India. We are a non-governmental organization that aims to improve the quality of education in India and to improve the quality of education in India. We are a non-governmental organization that aims to improve the quality of education in India and to improve the quality of education in India. We are a non-governmental organization that aims to improve the quality of education in India and to improve the quality of education in India. We are a non-governmental organization that aims to improve the quality of education\n",
            "You: What is Humara gaon program by Pratham?\n"
          ]
        },
        {
          "output_type": "stream",
          "name": "stderr",
          "text": [
            "Setting `pad_token_id` to `eos_token_id`:50256 for open-end generation.\n"
          ]
        },
        {
          "name": "stdout",
          "output_type": "stream",
          "text": [
            "Bot: Humara gaon is a program that aims to improve the quality of education in India and to improve the quality of education in India. Humara gaon is a program that aims to improve the quality of education in India and to improve the quality of education in India. Humara gaon is a program that aims to improve the quality of education in India and to improve the quality of education in India. Humara gaon is a program that aims to improve the quality of education in India and to improve the quality of education in India. Humara gaon is a program that aims to improve the quality of education in India and to improve the quality of education in India. Humara gaon is a program that aims to improve the quality of education\n",
            "You: Tell me more about Pratham\n"
          ]
        },
        {
          "output_type": "stream",
          "name": "stderr",
          "text": [
            "Setting `pad_token_id` to `eos_token_id`:50256 for open-end generation.\n"
          ]
        },
        {
          "output_type": "stream",
          "name": "stdout",
          "text": [
            "Bot: I am a member of the Indian National Congress (INPC) and I am a member of the Indian National Congress (INPC) and I am a member of the Indian National Congress (INPC) and I am a member of the Indian National Congress (INPC) and I am a member of the Indian National Congress (INPC) and I am a member of the Indian National Congress (INPC) and I am a member of the Indian National Congress (INPC) and I am a member of the Indian National Congress (INPC) and I am a member of the Indian National Congress (INPC) and I am a member of the Indian National Congress (INPC) and\n"
          ]
        }
      ]
    }
  ]
}